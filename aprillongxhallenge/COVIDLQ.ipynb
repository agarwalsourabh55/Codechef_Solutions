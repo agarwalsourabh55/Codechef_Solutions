{
 "cells": [
  {
   "cell_type": "code",
   "execution_count": null,
   "metadata": {},
   "outputs": [],
   "source": [
    "for _ in range(int(input())):\n",
    "    n=int(input())\n",
    "    a=[int(i) for i in input().split()]\n",
    "    for i in range(len(a)):\n",
    "        if a[i]==1:\n",
    "            b=i+1\n",
    "            break\n",
    "    if b==len(a):\n",
    "        flag=1\n",
    "    else:\n",
    "        flag=0\n",
    "    count=b\n",
    "    c=b\n",
    "    for i in range(b,len(a)):\n",
    "        count+=1\n",
    "        if a[i]==1:\n",
    "            if (count-c)>=6:\n",
    "                  c=i+1\n",
    "                  count=c\n",
    "                  flag=1\n",
    "            else:\n",
    "                print('NO')\n",
    "                flag=0\n",
    "                break\n",
    "        else:\n",
    "            flag=1\n",
    "    if flag==1:\n",
    "        print('YES')"
   ]
  }
 ],
 "metadata": {
  "kernelspec": {
   "display_name": "Python 3",
   "language": "python",
   "name": "python3"
  },
  "language_info": {
   "codemirror_mode": {
    "name": "ipython",
    "version": 3
   },
   "file_extension": ".py",
   "mimetype": "text/x-python",
   "name": "python",
   "nbconvert_exporter": "python",
   "pygments_lexer": "ipython3",
   "version": "3.7.5"
  }
 },
 "nbformat": 4,
 "nbformat_minor": 2
}

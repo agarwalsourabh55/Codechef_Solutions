{
 "cells": [
  {
   "cell_type": "code",
   "execution_count": null,
   "metadata": {},
   "outputs": [],
   "source": [
    "for _ in range(int(input())):\n",
    "    x,k=map(int,input().split())\n",
    "    i=2\n",
    "    factors=[]\n",
    "    while i*i <=x:\n",
    "        if x%i:\n",
    "            i+=1\n",
    "        else:\n",
    "            x//=i\n",
    "            factors.append(i)\n",
    "    if x>1:\n",
    "        factors.append(x)\n",
    "    l=len(factors)\n",
    "    if l>=k:\n",
    "        print(1)\n",
    "    else:\n",
    "        print(0)"
   ]
  }
 ],
 "metadata": {
  "kernelspec": {
   "display_name": "Python 3",
   "language": "python",
   "name": "python3"
  },
  "language_info": {
   "codemirror_mode": {
    "name": "ipython",
    "version": 3
   },
   "file_extension": ".py",
   "mimetype": "text/x-python",
   "name": "python",
   "nbconvert_exporter": "python",
   "pygments_lexer": "ipython3",
   "version": "3.7.5"
  }
 },
 "nbformat": 4,
 "nbformat_minor": 2
}

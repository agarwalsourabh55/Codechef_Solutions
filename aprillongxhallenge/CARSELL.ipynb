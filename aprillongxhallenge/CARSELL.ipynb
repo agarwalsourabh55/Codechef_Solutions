{
 "cells": [
  {
   "cell_type": "code",
   "execution_count": null,
   "metadata": {},
   "outputs": [],
   "source": [
    "for _ in range(int(input())):\n",
    "    n=int(input())\n",
    "    a=[int(i) for i in input().split()]\n",
    "    a.sort(reverse=True)\n",
    "    sum1=0\n",
    "    for i in range(len(a)):\n",
    "        if a[i]-i>0:\n",
    "           sum1=sum1+(a[i]-i)\n",
    "        else:\n",
    "           sum1=sum1+0\n",
    "    print(sum1%1000000007)"
   ]
  }
 ],
 "metadata": {
  "kernelspec": {
   "display_name": "Python 3",
   "language": "python",
   "name": "python3"
  },
  "language_info": {
   "codemirror_mode": {
    "name": "ipython",
    "version": 3
   },
   "file_extension": ".py",
   "mimetype": "text/x-python",
   "name": "python",
   "nbconvert_exporter": "python",
   "pygments_lexer": "ipython3",
   "version": "3.7.5"
  }
 },
 "nbformat": 4,
 "nbformat_minor": 2
}

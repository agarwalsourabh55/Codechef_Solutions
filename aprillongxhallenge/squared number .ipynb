{
 "cells": [
  {
   "cell_type": "code",
   "execution_count": 3,
   "metadata": {},
   "outputs": [
    {
     "name": "stdout",
     "output_type": "stream",
     "text": [
      "1\n",
      "4\n",
      "1 2 3 4 \n",
      "6\n"
     ]
    }
   ],
   "source": [
    "from functools import reduce\n",
    "for _ in range(int(input())):\n",
    "        n=int(input())\n",
    "        a=[int(i) for i in input().split()]\n",
    "        count=0\n",
    "        m=0\n",
    "        l=1\n",
    "        j=m\n",
    "        k=0\n",
    "        while 1:\n",
    "            if j<n:\n",
    "                k=j+l\n",
    "                if k<=n:\n",
    "                    b=1\n",
    "                    for i in a[j:k]:\n",
    "                        b=b*i\n",
    "                    if b%2!=0 or b%4==0:\n",
    "                         count+=1\n",
    "                    if len(a[j:k])==n:\n",
    "                        break\n",
    "                    j=j+1\n",
    "                else:\n",
    "                    j=m\n",
    "                    l=l+1\n",
    "                    k=0\n",
    "            else:\n",
    "                    j=m\n",
    "                    l=l+1\n",
    "                    k=0\n",
    "        print(count)"
   ]
  },
  {
   "cell_type": "code",
   "execution_count": 2,
   "metadata": {},
   "outputs": [
    {
     "name": "stdout",
     "output_type": "stream",
     "text": [
      "2\n",
      "3\n"
     ]
    }
   ],
   "source": [
    "a=[1,2,3,4,5,6]\n",
    "for i in a[1:3]:\n",
    "    print(i)"
   ]
  },
  {
   "cell_type": "code",
   "execution_count": null,
   "metadata": {},
   "outputs": [],
   "source": []
  }
 ],
 "metadata": {
  "kernelspec": {
   "display_name": "Python 3",
   "language": "python",
   "name": "python3"
  },
  "language_info": {
   "codemirror_mode": {
    "name": "ipython",
    "version": 3
   },
   "file_extension": ".py",
   "mimetype": "text/x-python",
   "name": "python",
   "nbconvert_exporter": "python",
   "pygments_lexer": "ipython3",
   "version": "3.7.5"
  }
 },
 "nbformat": 4,
 "nbformat_minor": 2
}

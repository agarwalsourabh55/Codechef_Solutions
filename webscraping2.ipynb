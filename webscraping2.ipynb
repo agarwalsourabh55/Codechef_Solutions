{
 "cells": [
  {
   "cell_type": "code",
   "execution_count": 6,
   "metadata": {},
   "outputs": [],
   "source": [
    "from bs4 import BeautifulSoup\n",
    "import requests\n",
    "url='https://www.imdb.com/title/tt0111161/reviews?ref_=tt_urv'\n",
    "requests.get(url)\n",
    "resp=requests.get(url)\n",
    "soup=BeautifulSoup(resp.text,'lxml')\n",
    "llist=soup.find_all('div',{'class':'lister-item-content'}) #if you wnat to find only oine value then you can also call find() function\n",
    "l=[]\n",
    "for x in llist:\n",
    "     for y in x.find_all('a',{'class':'title'}):\n",
    "            l.append(y.text)\n",
    "df=pd.DataFrame(l)\n",
    "df.to_csv('filename.csv', index=False)\n",
    "\n"
   ]
  },
  {
   "cell_type": "code",
   "execution_count": null,
   "metadata": {},
   "outputs": [],
   "source": []
  }
 ],
 "metadata": {
  "kernelspec": {
   "display_name": "Python 3",
   "language": "python",
   "name": "python3"
  },
  "language_info": {
   "codemirror_mode": {
    "name": "ipython",
    "version": 3
   },
   "file_extension": ".py",
   "mimetype": "text/x-python",
   "name": "python",
   "nbconvert_exporter": "python",
   "pygments_lexer": "ipython3",
   "version": "3.7.5"
  }
 },
 "nbformat": 4,
 "nbformat_minor": 2
}

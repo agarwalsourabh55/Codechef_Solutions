{
 "cells": [
  {
   "cell_type": "code",
   "execution_count": 14,
   "metadata": {},
   "outputs": [
    {
     "name": "stdout",
     "output_type": "stream",
     "text": [
      "2\n",
      "4\n",
      "8 8 10 12\n",
      "15 20 3 5\n",
      "30\n",
      "3\n",
      "20 20 20\n",
      "10 10 10\n",
      "30\n"
     ]
    }
   ],
   "source": [
    "#this method is wrong and to confude by using permutation that take to may time  \n",
    "from itertools import permutations  \n",
    "for _ in range(int(input())):\n",
    "    n=int(input())  \n",
    "    a=[int(var) for var in input().split()]  \n",
    "    b=[int(sar) for sar in input().split()]  \n",
    "    p=[]  \n",
    "    for i in range(1,n+1):  \n",
    "        p.append(i)  \n",
    "    list1=permutations(p)  \n",
    "    list1=list(list1)\n",
    "    list2=[]\n",
    "    for i in range(len(list1)):  \n",
    "        sum1=0\n",
    "        for j in range(len(list1[i])):  \n",
    "            sum1=sum1+min(a[j],b[int(list1[i][j])-1])\n",
    "        list2.append(sum1)  \n",
    "        sum1=0   \n",
    "    print(max(list2))    "
   ]
  },
  {
   "cell_type": "code",
   "execution_count": 17,
   "metadata": {},
   "outputs": [
    {
     "name": "stdout",
     "output_type": "stream",
     "text": [
      "1\n",
      "4\n",
      "8 8 10 12\n",
      "15 20 3 5\n",
      "30\n"
     ]
    }
   ],
   "source": [
    "# this is solution of SNUG fit\n",
    "from itertools import permutations\n",
    "for _ in range(int(input())):\n",
    "    n=int(input())  \n",
    "    a=[int(var) for var in input().split()]  \n",
    "    b=[int(sar) for sar in input().split()]  \n",
    "    p=[]  \n",
    "    a.sort()\n",
    "    b.sort()\n",
    "    sum=0\n",
    "    for i in range(len(a)):\n",
    "        sum=sum+min(a[i],b[i])\n",
    "    print(sum)"
   ]
  },
  {
   "cell_type": "code",
   "execution_count": null,
   "metadata": {},
   "outputs": [],
   "source": []
  }
 ],
 "metadata": {
  "kernelspec": {
   "display_name": "Python 3",
   "language": "python",
   "name": "python3"
  },
  "language_info": {
   "codemirror_mode": {
    "name": "ipython",
    "version": 3
   },
   "file_extension": ".py",
   "mimetype": "text/x-python",
   "name": "python",
   "nbconvert_exporter": "python",
   "pygments_lexer": "ipython3",
   "version": "3.7.3"
  }
 },
 "nbformat": 4,
 "nbformat_minor": 2
}

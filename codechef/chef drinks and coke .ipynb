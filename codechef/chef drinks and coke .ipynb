{
 "cells": [
  {
   "cell_type": "code",
   "execution_count": 26,
   "metadata": {},
   "outputs": [
    {
     "name": "stdout",
     "output_type": "stream",
     "text": [
      "3\n",
      "5\n",
      "10\n",
      "20\n",
      "30\n",
      "21\n",
      "20\n",
      "22\n",
      "22\n",
      "23\n",
      "23\n",
      "[-1]\n"
     ]
    }
   ],
   "source": [
    "a=int(input())\n",
    "while a>0:\n",
    "    n=int(input())\n",
    "    m=int(input())\n",
    "    k=int(input())\n",
    "    l=int(input())\n",
    "    r=int(input())\n",
    "    s=[]\n",
    "    q=[]\n",
    "    while n!=0:\n",
    "        c=int(input())\n",
    "        p=int(input())\n",
    "        q.append(p)\n",
    "        f=m\n",
    "        while f>0:                      #loop for time m\n",
    "            if c>k+1:\n",
    "                c=c-1\n",
    "            elif c<k-1:\n",
    "                c=c+1            \n",
    "            elif c>=k-1 and c<=k+1:\n",
    "                c=k\n",
    "            f=f-1    \n",
    "        s.append(c)                        #append function to know the latest temperature \n",
    "        n=n-1\n",
    "    ino=0\n",
    "    index=[]\n",
    "    retu=[]\n",
    "    for i in s: \n",
    "        if i>=l and i<=r:\n",
    "            index.append(ino) # it return index of the value under l and r     \n",
    "        ino=ino+1\n",
    "\n",
    "    if len(index)==0:\n",
    "        retu.append(-1)               # if no coke is suitable for it then it return -1\n",
    "    else:    \n",
    "        for i in index:\n",
    "            retu.append(q[i])             # it return price value of the index\n",
    "        retu.sort()\n",
    "\n",
    "    print(retu[:1])\n",
    "    a=a-1"
   ]
  },
  {
   "cell_type": "code",
   "execution_count": 17,
   "metadata": {},
   "outputs": [
    {
     "data": {
      "text/plain": [
       "[8]"
      ]
     },
     "execution_count": 17,
     "metadata": {},
     "output_type": "execute_result"
    }
   ],
   "source": [
    "s=[3,4,6]\n",
    "q=[6,8,10]\n",
    "l=4\n",
    "r=6\n",
    "ino=0\n",
    "index=[]\n",
    "retu=[]\n",
    "for i in s: \n",
    "    if i>=l and i<=r:\n",
    "        index.append(ino)\n",
    "    ino=ino+1\n",
    "for i in index:\n",
    "    retu.append(q[i])\n",
    "retu.sort()\n",
    "retu[:1]"
   ]
  },
  {
   "cell_type": "code",
   "execution_count": 24,
   "metadata": {},
   "outputs": [
    {
     "data": {
      "text/plain": [
       "[-1]"
      ]
     },
     "execution_count": 24,
     "metadata": {},
     "output_type": "execute_result"
    }
   ],
   "source": [
    "index=[]\n",
    "index.append(-1)\n",
    "index[:1]\n"
   ]
  },
  {
   "cell_type": "code",
   "execution_count": null,
   "metadata": {},
   "outputs": [],
   "source": []
  }
 ],
 "metadata": {
  "kernelspec": {
   "display_name": "Python 3",
   "language": "python",
   "name": "python3"
  },
  "language_info": {
   "codemirror_mode": {
    "name": "ipython",
    "version": 3
   },
   "file_extension": ".py",
   "mimetype": "text/x-python",
   "name": "python",
   "nbconvert_exporter": "python",
   "pygments_lexer": "ipython3",
   "version": "3.7.3"
  }
 },
 "nbformat": 4,
 "nbformat_minor": 2
}

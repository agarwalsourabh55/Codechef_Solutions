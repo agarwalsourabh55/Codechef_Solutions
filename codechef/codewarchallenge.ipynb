{
 "cells": [
  {
   "cell_type": "code",
   "execution_count": 2,
   "metadata": {},
   "outputs": [
    {
     "name": "stdout",
     "output_type": "stream",
     "text": [
      "2\n",
      "3\n",
      "20\n",
      "30\n",
      "40\n",
      "2\n",
      "3\n",
      "20\n",
      "600\n",
      "1\n",
      "0\n",
      "1\n",
      "0\n"
     ]
    }
   ],
   "source": [
    "a=int(input())\n",
    "for i in range(a):\n",
    "    b=int(input())\n",
    "    c=[]\n",
    "    d=[]\n",
    "    e=[]\n",
    "    for i in range(b):\n",
    "        c.append(int(input())*20)  \n",
    "    for i in range(b):\n",
    "        d.append(int(input())*10)\n",
    "    for i in range(b):\n",
    "        e.append(c[i]-d[i])\n",
    "    e.sort()\n",
    "    if (e[-1]<0):\n",
    "        e[-1]=0\n",
    "    print(e[-1])    \n",
    "    e.clear() \n",
    "    "
   ]
  },
  {
   "cell_type": "markdown",
   "metadata": {},
   "source": []
  }
 ],
 "metadata": {
  "kernelspec": {
   "display_name": "Python 3",
   "language": "python",
   "name": "python3"
  },
  "language_info": {
   "codemirror_mode": {
    "name": "ipython",
    "version": 3
   },
   "file_extension": ".py",
   "mimetype": "text/x-python",
   "name": "python",
   "nbconvert_exporter": "python",
   "pygments_lexer": "ipython3",
   "version": "3.7.3"
  }
 },
 "nbformat": 4,
 "nbformat_minor": 2
}

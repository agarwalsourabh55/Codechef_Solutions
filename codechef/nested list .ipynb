{
 "cells": [
  {
   "cell_type": "code",
   "execution_count": null,
   "metadata": {},
   "outputs": [],
   "source": [
    "n=int(input())\n",
    "b=[]\n",
    "e=[]\n",
    "for i in range(n):\n",
    "    name = input()\n",
    "    score = float(input())\n",
    "    matrix = [[name,score] for j in range(1) for i in range(n)] \n",
    "    b.append(score)\n",
    "    e.append(name)\n",
    "\n",
    "for i in range(len(b)):\n",
    "    for j in range(i+1,len(b)):\n",
    "        if b[i] > b[j]:\n",
    "            temp=b[i]\n",
    "            t=e[i]\n",
    "            b[i]=b[j]\n",
    "            e[i]=e[j]\n",
    "            b[j]=temp\n",
    "            e[j]=t\n",
    "\n",
    "\n",
    "c=min(b)\n",
    "for i in range(len(b)):\n",
    "    if c==b[0]:\n",
    "        del b[0]\n",
    "        del e[0]\n",
    "\n",
    "c=min(b)\n",
    "f=[]\n",
    "for i in range(len(b)):\n",
    "    if c==b[i]:\n",
    "        f.append(e[i])\n",
    "f.sort()\n",
    "for i in f:\n",
    "    print(i)        \n"
   ]
  }
 ],
 "metadata": {
  "kernelspec": {
   "display_name": "Python 3",
   "language": "python",
   "name": "python3"
  },
  "language_info": {
   "codemirror_mode": {
    "name": "ipython",
    "version": 3
   },
   "file_extension": ".py",
   "mimetype": "text/x-python",
   "name": "python",
   "nbconvert_exporter": "python",
   "pygments_lexer": "ipython3",
   "version": "3.7.3"
  }
 },
 "nbformat": 4,
 "nbformat_minor": 2
}
